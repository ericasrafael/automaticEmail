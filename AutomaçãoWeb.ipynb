{
  "nbformat": 4,
  "nbformat_minor": 0,
  "metadata": {
    "colab": {
      "name": "AutomaçãoWeb.ipynb",
      "provenance": [],
      "authorship_tag": "ABX9TyMGYHe5s4BDWswh/u37XNh7",
      "include_colab_link": true
    },
    "kernelspec": {
      "name": "python3",
      "display_name": "Python 3"
    },
    "language_info": {
      "name": "python"
    }
  },
  "cells": [
    {
      "cell_type": "markdown",
      "metadata": {
        "id": "view-in-github",
        "colab_type": "text"
      },
      "source": [
        "<a href=\"https://colab.research.google.com/github/ericasrafael/automaticEmail/blob/main/Automa%C3%A7%C3%A3oWeb.ipynb\" target=\"_parent\"><img src=\"https://colab.research.google.com/assets/colab-badge.svg\" alt=\"Open In Colab\"/></a>"
      ]
    },
    {
      "cell_type": "code",
      "execution_count": null,
      "metadata": {
        "id": "ITJAnh3Qrv0Z"
      },
      "outputs": [],
      "source": [
        "#Bibliotecas para automatizar teclado, mouse e tela.\n",
        "!pip install pyautogui\n",
        "!pip install pyperclip"
      ]
    },
    {
      "cell_type": "code",
      "source": [
        "#Importando as bibliotecas para serem usadas no projeto\n",
        "\n",
        "import pyautogui as pt  #Ferramenta de automação, o Python assume controle do seu teclado por exemplo\n",
        "import pyperclip as pp  #Permite copiar e colar via Python.\n",
        "import time #Facilita no desenvolvimento de códigos que envolvem tempo, tempo de espera etc, já no pacote anaconda\n",
        "\n",
        "pt.PAUSE = 1 #Tempo de 1 seg entre um comando e outro, python roda muito rápido e pode dá erro no código\n",
        "\n",
        "#Primeiramente, deve-se abrir uma nova aba no Chrome\n",
        "pt.hotkey('Ctrl','t')\n",
        "\n",
        "#Deve-se acessar o drive com a tabela de dados, com isso, copia e cola link do drive, no campo de pesquisa da aba aberta\n",
        "link = 'https://drive.google.com/drive/folders/149xknr9JvrlEnhNWO49zPcw0PW5icxga'\n",
        "pp.copy(link)\n",
        "pt.hotkey('Ctrl','v')\n",
        "#Clicando em Enter após a escrita do link no campo de pesquisa, entra no sistema, que contém a tabela de dados \"Exportar\"\n",
        "pt.press('Enter')\n",
        "\n",
        "time.sleep(5)\n",
        "pt.click(x=345, y=267, clicks=2)\n",
        "pt.click(x=359, y=449)\n",
        "pt.click(x=1163, y=159)\n",
        "pt.click(x=918, y=592)\n",
        "time.sleep(10) #Necessário para o download completo do arquivo\n",
        "\n",
        "#Arquivo será armazenado em C:\\Users\\Erica\\Nossas coisas Dropbox\\Erica Rafael (ericasrafael)\\My PC (LAPTOP-LDHCCECB)\\Downloads"
      ],
      "metadata": {
        "id": "ggve8dGur0dv"
      },
      "execution_count": null,
      "outputs": []
    },
    {
      "cell_type": "code",
      "source": [
        "#CALCULANDO INDICADORES\n",
        "\n",
        "import pandas as pd\n",
        "!pip install numpy\n",
        "!pip install openpyxl\n",
        "\n",
        "#Importando a base de dados para o python\n",
        "tabela = pd.read_excel(r'C:\\Users\\Erica\\Nossas coisas Dropbox\\Erica Rafael (ericasrafael)\\My PC (LAPTOP-LDHCCECB)\\Downloads\\Vendas - Dez.xlsx')\n",
        "display(tabela)\n",
        "\n",
        "#Lembre-se, para selecionar coluna tabela['Nome da coluna'] | Para somar os valores faz-se .sum()\n",
        "faturamento = tabela['Valor Final'].sum()\n",
        "quantidade = tabela['Quantidade'].sum()\n"
      ],
      "metadata": {
        "id": "KJVSsP3ur0iK"
      },
      "execution_count": null,
      "outputs": []
    },
    {
      "cell_type": "code",
      "source": [
        "#Enviar e-mail com valores obtidos dos indicadores\n",
        "\n",
        "#Entrando no inbox\n",
        "pt.hotkey('Ctrl','t')\n",
        "pp.copy('https://mail.google.com/mail/u/0/#inbox')\n",
        "pt.hotkey('Ctrl','v')\n",
        "pt.press('Enter')\n",
        "time.sleep(5) #Para carregamento completo do inbox\n",
        "\n",
        "#Compondo a mensagem de e-mail, primeiro preesionar botão \"Compor nova mensagem\"\n",
        "pt.click(x=87, y=169)\n",
        "\n",
        "#Escrevendo no campo do destinatário (Para)\n",
        "pt.write('nataliadeoliveira.n@gmail.com')\n",
        "#Seleciona o e-mail escrito automaticamente, aparece nas opções\n",
        "pt.press('Tab')\n",
        "#Outro tab para pular para o campo Assunto (Assunto)\n",
        "pt.press('Tab')\n",
        "#Preenchendo o campo Assunto\n",
        "pp.copy('Relatório de vendas')\n",
        "pt.hotkey('Ctrl','v')\n",
        "#Outro Tab para pular para o corpo do e-mail\n",
        "pt.press('Tab')\n",
        "\n",
        "#Escrevendo o texto a ser inserido no corpo\n",
        "#Para o texto ser formatado da mesma forma que está escrito, deve-se acrescentar \"f\" no inicio e três aspas duplas\n",
        "#faturamento e quantidade serão substituídos pelos valores calculados na etapa de cálculo (A soma das colunas)\n",
        "#,.2f: Indica a formatação a qual esse valor será apresentado\n",
        "#(:) indica que haverá uma formatação e (,) indica que o separador de milhar será VÍRGULA\n",
        "#(.2f) indica que o separador de casa decimais será PONTO eserão 2 casas decimais\n",
        "\n",
        "texto = f\"\"\"\n",
        "Prezados, bom dia\n",
        "\n",
        "O faturamento de ontem foi de: R${faturamento:,.2f}\n",
        "A quantidade de produtos foi de: {quantidade:,}\n",
        "\n",
        "Abs,\n",
        "Erica Rafael\"\"\"\n",
        "\n",
        "pp.copy(texto)\n",
        "pt.hotkey('Ctrl','v')\n",
        "\n",
        "#Lembrar: Apertando Ctrl + Enter, a mensagem já é enviada por e-mail\n",
        "\n",
        "pt.hotkey('Ctrl','Enter')\n"
      ],
      "metadata": {
        "id": "y63HBB1Pr0mA"
      },
      "execution_count": null,
      "outputs": []
    },
    {
      "cell_type": "code",
      "source": [
        "#Calcular determinadas posições onde o BOT deve clicar com o mouse\n",
        "\n",
        "time.sleep(5)\n",
        "pt.position()\n",
        "\n",
        "#Obtem-se que a posição dos pixels da pasta \"Exportar\" tem coordenadas Point(x=345, y=267)\n",
        "#Obtem-se que a posição dos pixels da pasta \"Vendas - Dez.xlsx\" tem coordenadas Point(x=359, y=449)\n",
        "#Obtem-se que a posição dos pixels dos três pontinhos a direita superior tem coordenadas Point(x=1163, y=159)\n",
        "#Obtem-se que a posição dos pixels do botão \"Download\" nas opções tem coordenadas Point(x=918, y=592)\n",
        "#Obtem-se que a posição dos pixels do botão \"Compor\" da caixa de e-mail tem coordenadas Point(x=87, y=169)\n"
      ],
      "metadata": {
        "id": "SRX9mtsBr0pm"
      },
      "execution_count": null,
      "outputs": []
    }
  ]
}